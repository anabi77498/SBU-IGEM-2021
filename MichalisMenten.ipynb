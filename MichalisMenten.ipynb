{
 "cells": [
  {
   "cell_type": "code",
   "metadata": {
    "tags": [],
    "cell_id": "00000-8faa4f58-5811-4b42-a852-4c9cfc1f03f8",
    "deepnote_to_be_reexecuted": false,
    "source_hash": "f682b76f",
    "execution_start": 1654707938671,
    "execution_millis": 47,
    "owner_user_id": "a17a949c-8dab-4f62-a4fd-bdf6db9b6378",
    "deepnote_cell_type": "code",
    "deepnote_cell_height": 244.296875,
    "deepnote_output_heights": [
     20.8125
    ]
   },
   "source": "#E + S (REV) ES (ONEWAY) E + P\nMAX_RATE = 0.066 #nM/min\nK_M = 160 #unitless (rate of breakdown of complex / rate of formation of complex)\n\n#initial_microcystin_conc = 2e-3 g/L(995.2) #g/mol  #molarity https://pubchem.ncbi.nlm.nih.gov/compound/Microcystin-LR \ninitial_microcystin_conc = 2e-5/(995.2)  #molarity https://pubchem.ncbi.nlm.nih.gov/compound/Microcystin-LR \ninitial_microcystin_conc\n",
   "execution_count": 1,
   "outputs": [
    {
     "output_type": "execute_result",
     "execution_count": 1,
     "data": {
      "text/plain": "2.009646302250804e-08"
     },
     "metadata": {}
    }
   ]
  },
  {
   "cell_type": "code",
   "source": "MM_rate = MAX_RATE * (initial_microcystin_conc * 10**9 /(initial_microcystin_conc * 10**9 + K_M ))\nMM_rate",
   "metadata": {
    "cell_id": "4f2cc2fb76b54dca809b4de810f4486b",
    "tags": [],
    "deepnote_to_be_reexecuted": false,
    "source_hash": "7b2bd1b0",
    "execution_start": 1654707938716,
    "execution_millis": 3,
    "deepnote_cell_type": "code",
    "deepnote_cell_height": 136.296875,
    "deepnote_output_heights": [
     20.8125
    ]
   },
   "outputs": [
    {
     "output_type": "execute_result",
     "execution_count": 2,
     "data": {
      "text/plain": "0.007364756293519016"
     },
     "metadata": {}
    }
   ],
   "execution_count": 2
  },
  {
   "cell_type": "code",
   "metadata": {
    "tags": [],
    "cell_id": "00001-67b5c85c-e883-4f0d-a0d9-bac0c3e10833",
    "deepnote_to_be_reexecuted": false,
    "source_hash": "79768b3d",
    "execution_start": 1654707938759,
    "execution_millis": 0,
    "deepnote_cell_type": "code",
    "deepnote_cell_height": 118.296875,
    "deepnote_output_heights": [
     20.8125
    ]
   },
   "source": "initial_microcystin_conc/(initial_microcystin_conc + K_M )",
   "execution_count": 3,
   "outputs": [
    {
     "output_type": "execute_result",
     "execution_count": 3,
     "data": {
      "text/plain": "1.2560289387489918e-10"
     },
     "metadata": {}
    }
   ]
  },
  {
   "cell_type": "code",
   "metadata": {
    "tags": [],
    "cell_id": "00001-2d0934f2-b546-4355-9c7d-112181f83629",
    "deepnote_to_be_reexecuted": false,
    "source_hash": "87957684",
    "execution_start": 1654707938760,
    "execution_millis": 3,
    "deepnote_cell_type": "code",
    "deepnote_cell_height": 118.296875,
    "deepnote_output_heights": [
     20.8125
    ]
   },
   "source": "initial_microcystin_conc*10**9/0.066",
   "execution_count": 4,
   "outputs": [
    {
     "output_type": "execute_result",
     "execution_count": 4,
     "data": {
      "text/plain": "304.49186397739453"
     },
     "metadata": {}
    }
   ]
  },
  {
   "cell_type": "code",
   "metadata": {
    "tags": [],
    "cell_id": "00001-0ccc8b54-0147-4aad-b279-7d61f1d25f97",
    "deepnote_to_be_reexecuted": false,
    "source_hash": "c206742a",
    "execution_start": 1654707938803,
    "execution_millis": 1,
    "deepnote_cell_type": "code",
    "deepnote_cell_height": 118.296875,
    "deepnote_output_heights": [
     20.8125
    ]
   },
   "source": "initial_microcystin_conc",
   "execution_count": 5,
   "outputs": [
    {
     "output_type": "execute_result",
     "execution_count": 5,
     "data": {
      "text/plain": "2.009646302250804e-08"
     },
     "metadata": {}
    }
   ]
  },
  {
   "cell_type": "markdown",
   "source": "$$ v = v_{max} \\frac{[S]}{[S] + K_m} $$",
   "metadata": {
    "tags": [],
    "cell_id": "00001-3ea1c976-5336-4968-b421-665c1ab17e79",
    "deepnote_cell_type": "markdown",
    "deepnote_cell_height": 57.375
   }
  },
  {
   "cell_type": "markdown",
   "source": "https://www.who.int/water_sanitation_health/resourcesquality/toxcyanchap5.pdf\n\n![](./s1.png)",
   "metadata": {
    "tags": [],
    "cell_id": "00002-2850b993-24ce-4515-8194-0e7a3c03a0af",
    "deepnote_cell_type": "markdown",
    "deepnote_cell_height": 428.765625
   }
  },
  {
   "cell_type": "markdown",
   "source": "mol wt of microcystin = 995.2 AMU ",
   "metadata": {
    "tags": [],
    "cell_id": "00003-3f689802-de90-4039-9372-c73230733838",
    "deepnote_cell_type": "markdown",
    "deepnote_cell_height": 53
   }
  },
  {
   "cell_type": "code",
   "metadata": {
    "tags": [],
    "cell_id": "00004-706e518d-ce60-4380-96dc-774ad3e351bb",
    "deepnote_to_be_reexecuted": false,
    "source_hash": "c98f4e99",
    "execution_start": 1654707938815,
    "execution_millis": 10,
    "deepnote_cell_type": "code",
    "deepnote_cell_height": 118.296875,
    "deepnote_output_heights": [
     20.8125
    ]
   },
   "source": "6.023e23 *  (2e-3/995.2)",
   "execution_count": 6,
   "outputs": [
    {
     "output_type": "execute_result",
     "execution_count": 6,
     "data": {
      "text/plain": "1.2104099678456591e+18"
     },
     "metadata": {}
    }
   ]
  },
  {
   "cell_type": "code",
   "metadata": {
    "tags": [],
    "cell_id": "00005-db0efcc4-6872-40b3-bd6f-48baa135c961",
    "deepnote_to_be_reexecuted": false,
    "source_hash": "7e8c9af2",
    "execution_start": 1654707938858,
    "execution_millis": 74131,
    "deepnote_cell_type": "code",
    "deepnote_cell_height": 190.3125,
    "deepnote_output_heights": [
     20.8125
    ]
   },
   "source": "E_COLI_CONC = 1e12\nN_ENZYMES = 3* E_COLI_CONC\n\nN_ENZYMES/6e23\n",
   "execution_count": 7,
   "outputs": [
    {
     "output_type": "execute_result",
     "execution_count": 7,
     "data": {
      "text/plain": "5e-12"
     },
     "metadata": {}
    }
   ]
  },
  {
   "cell_type": "markdown",
   "source": "<a style='text-decoration:none;line-height:16px;display:flex;color:#5B5B62;padding:10px;justify-content:end;' href='https://deepnote.com?utm_source=created-in-deepnote-cell&projectId=42f36c53-d335-44dc-9992-7dbc5d64bfac' target=\"_blank\">\n<img alt='Created in deepnote.com' style='display:inline;max-height:16px;margin:0px;margin-right:7.5px;' src='data:image/svg+xml;base64,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' > </img>\nCreated in <span style='font-weight:600;margin-left:4px;'>Deepnote</span></a>",
   "metadata": {
    "tags": [],
    "created_in_deepnote_cell": true,
    "deepnote_cell_type": "markdown"
   }
  }
 ],
 "nbformat": 4,
 "nbformat_minor": 2,
 "metadata": {
  "orig_nbformat": 2,
  "deepnote": {
   "is_reactive": false
  },
  "deepnote_notebook_id": "b6d5279f-11b6-4057-a541-b85fa079224e",
  "deepnote_execution_queue": []
 }
}